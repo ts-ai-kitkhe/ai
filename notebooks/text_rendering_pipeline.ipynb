{
 "cells": [
  {
   "cell_type": "code",
   "execution_count": 1,
   "id": "e47328f7",
   "metadata": {},
   "outputs": [],
   "source": [
    "import os\n",
    "os.chdir(os.getcwd()[:os.getcwd().rfind('\\\\')])"
   ]
  },
  {
   "cell_type": "code",
   "execution_count": 2,
   "id": "6148c01f",
   "metadata": {},
   "outputs": [],
   "source": [
    "import numpy as np\n",
    "from src.utils.preprocessing_utils import load_image, preprocess_image, get_bounding_boxes, get_corners, get_areas, filter_by_area, get_boxes_sides_length, filter_by_sides\n",
    "from src.utils.frontend_utils import input_for_frontend\n",
    "from src.utils.data_utils import zero_padding, remove_extra_space_around_characters, get_characters\n",
    "import cv2\n",
    "from skimage import io\n",
    "import os\n",
    "from tensorflow import keras\n",
    "import numpy as np\n",
    "from skimage.transform import resize\n",
    "from skimage import io, color\n",
    "from sklearn.preprocessing import LabelEncoder\n",
    "import statistics\n",
    "from src.utils.preprocessing_utils import filter_boxes_by_models_predictions, get_all_leters, project_y_letters, find_distances_between_coordinates, get_lines, get_sorted_lines, get_text_lines\n",
    "from src.utils.frontend_utils import get_model_response"
   ]
  },
  {
   "cell_type": "markdown",
   "id": "e4990533",
   "metadata": {},
   "source": [
    "## Load Model"
   ]
  },
  {
   "cell_type": "code",
   "execution_count": 3,
   "id": "ea675240",
   "metadata": {},
   "outputs": [],
   "source": [
    "GEO_ALPHABET = {'ა': 1, 'ბ': 2, 'გ': 3, 'დ': 4, 'ე': 5, 'ვ': 6, \n",
    "                'ზ': 7, 'თ': 8, 'ი': 9, 'კ': 10, 'ლ': 11, 'მ': 12, \n",
    "                'ნ': 13, 'ო': 14, 'პ': 15, 'ჟ': 16, 'რ': 17, 'ს': 18, \n",
    "                'ტ': 19, 'უ': 20, 'ფ': 21, 'ქ': 22, 'ღ': 23, 'ყ': 24, \n",
    "                'შ': 25, 'ჩ': 26, 'ც': 27, 'ძ': 28, 'წ': 29, 'ჭ': 30, \n",
    "                'ხ': 31, 'ჯ': 32, 'ჰ': 33} \n",
    "\n",
    "model_name = 'models/first_cnn/first_cnn.h5'\n",
    "label_encoder_name = 'models/first_cnn/first_cnn_label_encoder.npy'\n",
    "\n",
    "model = keras.models.load_model(model_name)\n",
    "le = LabelEncoder()\n",
    "le.classes_ = np.load(label_encoder_name, allow_pickle=True)\n",
    "le_name_mapping = dict(zip(le.transform(le.classes_), le.classes_))"
   ]
  },
  {
   "cell_type": "markdown",
   "id": "34f84f18",
   "metadata": {},
   "source": [
    "## Preprocess Image"
   ]
  },
  {
   "cell_type": "code",
   "execution_count": 4,
   "id": "96323605",
   "metadata": {},
   "outputs": [],
   "source": [
    "image_file = 'data/raw/0002.jpg'\n",
    "\n",
    "img = load_image(image_file)\n",
    "binary_image = preprocess_image(img)\n",
    "# characteristics\n",
    "bounding_boxes = get_bounding_boxes(binary_image)\n",
    "corners = get_corners(bounding_boxes)\n",
    "areas = get_areas(corners)\n",
    "widths, heights = get_boxes_sides_length(corners)\n",
    "\n",
    "# filters\n",
    "filtered_areas, filtered_corners, area_mask = filter_by_area(areas, corners, filter_value = 0)\n",
    "filtered_widths, filtered_heights = np.array(widths)[np.array(area_mask)].tolist(), np.array(heights)[np.array(area_mask)].tolist()\n",
    "\n",
    "filtered_corners, side_mask = filter_by_sides(filtered_corners, filtered_widths, filtered_heights)\n",
    "filtered_widths, filtered_heights = np.array(filtered_widths)[np.array(side_mask)].tolist(), np.array(filtered_heights)[np.array(side_mask)].tolist()\n",
    "filtered_areas = np.array(filtered_areas)[np.array(side_mask)].tolist()\n",
    "\n",
    "filtered_areas, filtered_corners, area_mask = filter_by_area(filtered_areas, filtered_corners, filter_value = np.mean(filtered_areas)/2)\n",
    "filtered_widths, filtered_heights = np.array(filtered_widths)[np.array(area_mask)].tolist(), np.array(filtered_heights)[np.array(area_mask)].tolist()"
   ]
  },
  {
   "cell_type": "code",
   "execution_count": 5,
   "id": "947cd436",
   "metadata": {},
   "outputs": [],
   "source": [
    "# %%timeit\n",
    "characters = get_characters(binary_image, filtered_corners)"
   ]
  },
  {
   "cell_type": "markdown",
   "id": "eb28073e",
   "metadata": {},
   "source": [
    "## Predictions"
   ]
  },
  {
   "cell_type": "code",
   "execution_count": 6,
   "id": "a80ad92f",
   "metadata": {},
   "outputs": [],
   "source": [
    "predictions = []\n",
    "for c in characters:\n",
    "    preprocessed = zero_padding(remove_extra_space_around_characters(c, extra_space_value=0))\n",
    "    image_cnn = np.zeros(shape=(1, 28, 28))\n",
    "    image_cnn[0] = zero_padding(remove_extra_space_around_characters(c, extra_space_value=0))\n",
    "    prediction = model.predict(image_cnn, verbose=False)\n",
    "    letter, confidence = np.argmax(prediction), np.max(prediction)\n",
    "    \n",
    "    predictions.append((le_name_mapping[letter], confidence))"
   ]
  },
  {
   "cell_type": "code",
   "execution_count": 7,
   "id": "e824e67d",
   "metadata": {},
   "outputs": [],
   "source": [
    "model_response = get_model_response(predictions, filtered_corners)"
   ]
  },
  {
   "cell_type": "markdown",
   "id": "9d5c9c37",
   "metadata": {},
   "source": [
    "### Get only confident boxes"
   ]
  },
  {
   "cell_type": "code",
   "execution_count": 8,
   "id": "fa952b0c",
   "metadata": {},
   "outputs": [],
   "source": [
    "f_corners, f_predictions, prediction_mask = filter_boxes_by_models_predictions(filtered_corners, predictions, 0.9)"
   ]
  },
  {
   "cell_type": "code",
   "execution_count": 9,
   "id": "6718abdd",
   "metadata": {},
   "outputs": [],
   "source": [
    "\n",
    "all_letters = get_all_leters(f_corners)\n",
    "y_letters = project_y_letters(all_letters)\n",
    "coord_distances = find_distances_between_coordinates(y_letters)\n",
    "lines = get_lines(coord_distances, all_letters, y_letters)\n",
    "sorted_lines = get_sorted_lines(lines)\n",
    "text_lines = get_text_lines(sorted_lines, model_response)"
   ]
  },
  {
   "cell_type": "code",
   "execution_count": 10,
   "id": "0ebd6e75",
   "metadata": {},
   "outputs": [
    {
     "name": "stdout",
     "output_type": "stream",
     "text": [
      "ჭ ნ ნ შენავტლი\n",
      "ნ ქძ ჯყ კძცაუქუნის კ ნანუვარი უაღრუსად წ ყოფიუძ რი პურიოდია\n",
      "ქართლ ს ისტორიაში უს არის დიდ დ გ ნ თლუბული ს ხელმწიფრ\n",
      "მრღვაწის ქართველი მუფის ვანტანგ ყკ ის მშართვულობის და მუ\n",
      "ფობლც ხანა რომულ ც შვუყნიც დ მოუქიდებლოჭ ბიცა და პოლიტიქუ\n",
      "რი ერთიანობიც თვის ბრძოლითა და დიდი ქულტურლლ სუ აგანმგწათ\n",
      "ლებლ ნ რ მვრებით ხასიუდება მაჰმადიანთა ქალმომრუობისბცირო\n",
      "ბუბში ვახწაწგი უროვნულ ქრიცტიანული პოლიწიქიც მუდროშუდ გ\n",
      "მოვიდა მ ნ ქარგად უწყოდა რომ უროვნფლი სახის შენარჩუნება\n",
      "ფიზიქლრი არსუბობისათვის ბრძოლის გარდა ქვუყნის იცტორიუჟ ლ\n",
      "ქლლტურულ ჟი მუმქვიდრეობიც მოვლ ცა და მიც შემდგომ გამდიდრუ\n",
      "ბ ც ც მოითხოვდა ცწორუდ ამ მჯრივაა საყურ დღებო ვახწანგის\n",
      "ოღგორც ქულტურული მრღვ წის და განმანათლებლის მუცნიურიცა\n",
      "დ მთარგმნულიც მოღვაწუობ\n",
      "ვ ჯწანგი რის უშუ ლო წარმმართვული და აშტილრი მონაწილე\n",
      "იმ საერთო ურრვნულ ქლლტურული პროცუსიც რომულცაც შართულ\n",
      "ანმანულუ ბლშბჯს უწრდე გ ე ნ ცწორუდ გაჯოტჯი ხგწა იყო უც ჯნა\n",
      "სუთი დაუღალავი მედგარი მლშაობა რომელსაც ურთი საზოგ დო\n",
      "მიმ რთულუბა ჰქონდ დ ფართო ღრმ ნიად გი უპყრ უფლუბაც გვა\n",
      "შლევს ქ რთლლი შწურლრბის ამ ხანას ენციქლოპედიური ხან და\n",
      "ვარქვუ სახელად თუქმის ჯელ იმშოიჯელი მოღვ წჭ აწი და\n",
      "გოწებ ჭითუე წ იყო მიპჩული რრმ შაჩჟუდი წალნქ შუმოქჭუდე\n",
      "გითი ნიჭ ს მრ ვალი სალცწნტ წამუშევჯრი დ ნაჰირნახწ ჟლუვი მჯ ეყოზ\n",
      "ბ თ შუეცწ ვლათ დ ჩამომავლობიცათვის დ მთავრებული ყწველ\n",
      "სმზრივი წარმოდგუნა თუ ცოდნა გადაუცათ ამ დიდი სგშმის მოთ ვე\n",
      "დ სულისჩამდგ ელი გიორგი ჯყ დ მუტადრე დიდუბული დაუვიწყ\n",
      "რი ვახტაწგ ყ იყო\n",
      "ვახტანგის ქულწურლლ საგანმანათლუბლო მოღვაწუობაში გან\n",
      "ც ქფთრუბით შნიშვნულოვ ნი იყო ჯ ნიოინობის პურირდი ყვ ვცვ ვ ე კ გა\n",
      "მ პურიოდში მისი თაოსნობით ყალიბდუჯბა ცწავლლლ ქაცთა ქომი\n",
      "ნ სშ რთუელოს სოორ ს ნრქუევებ ტ ყ თბ ფევ გე ვფფ\n",
      "ე ჯ ე ხ შვ ლ ქრთულ ცმრთლს ცტორ ტუ თბ ფვზ\n",
      "გვუქ გ\n",
      "\n"
     ]
    }
   ],
   "source": [
    "sorted_text_lines = [sorted(tl, key=lambda x: x['corners'][0][0]) for tl in text_lines]\n",
    "\n",
    "joined_text_lines = [\"\".join([s['letter'] for s in stl]) for stl in sorted_text_lines ]\n",
    "\n",
    "mean_spaces_between_chars = [statistics.mean([abs(stl[i]['corners'][2][0] - stl[i+1]['corners'][0][0]) for i in range(len(stl)-1)]) for stl in sorted_text_lines]\n",
    "\n",
    "result_text = \"\"\n",
    "for i in range(len(sorted_text_lines)):\n",
    "    sentence = sorted_text_lines[i]\n",
    "    mean_space = mean_spaces_between_chars[i]\n",
    "    sent = \"\"\n",
    "    for i in range(len(sentence)-1):\n",
    "        sent += sentence[i]['letter']\n",
    "        if abs(sentence[i]['corners'][2][0] - sentence[i+1]['corners'][0][0]) > mean_space:\n",
    "            sent+= \" \"\n",
    "    sent += sentence[-1]['letter']\n",
    "    result_text += sent + '\\n'\n",
    "\n",
    "print(result_text)"
   ]
  }
 ],
 "metadata": {
  "kernelspec": {
   "display_name": "Python 3 (ipykernel)",
   "language": "python",
   "name": "python3"
  },
  "language_info": {
   "codemirror_mode": {
    "name": "ipython",
    "version": 3
   },
   "file_extension": ".py",
   "mimetype": "text/x-python",
   "name": "python",
   "nbconvert_exporter": "python",
   "pygments_lexer": "ipython3",
   "version": "3.8.12"
  },
  "toc": {
   "base_numbering": 1,
   "nav_menu": {},
   "number_sections": false,
   "sideBar": true,
   "skip_h1_title": false,
   "title_cell": "Table of Contents",
   "title_sidebar": "Contents",
   "toc_cell": false,
   "toc_position": {},
   "toc_section_display": true,
   "toc_window_display": false
  }
 },
 "nbformat": 4,
 "nbformat_minor": 5
}
