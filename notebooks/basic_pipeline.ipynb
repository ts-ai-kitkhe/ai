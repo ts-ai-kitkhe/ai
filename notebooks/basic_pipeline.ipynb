{
 "cells": [
  {
   "cell_type": "code",
   "execution_count": 18,
   "metadata": {},
   "outputs": [],
   "source": [
    "import os\n",
    "os.chdir(os.getcwd()[:os.getcwd().rfind('\\\\')])"
   ]
  },
  {
   "cell_type": "code",
   "execution_count": 24,
   "metadata": {},
   "outputs": [],
   "source": [
    "from src.utils.preprocessing_utils import load_image, preprocess_image, get_bounding_boxes, get_corners, get_areas, filter_by_area, get_characters, generate_json"
   ]
  },
  {
   "cell_type": "code",
   "execution_count": 30,
   "metadata": {},
   "outputs": [],
   "source": [
    "image_file = 'data/raw/0002.jpg'\n",
    "\n",
    "img = load_image(img_path=image_file)\n",
    "bitwise_img = preprocess_image(img=img)\n",
    "bounding_boxes = get_bounding_boxes(bitwise_image=bitwise_img)\n",
    "corners = get_corners(bounding_boxes=bounding_boxes)\n",
    "areas = get_areas(corners=corners)\n",
    "mean_areas, mean_corners = filter_by_area(areas=areas, corners=corners)\n",
    "chars = get_characters(bitwise_img, mean_corners)"
   ]
  },
  {
   "cell_type": "code",
   "execution_count": 31,
   "metadata": {},
   "outputs": [],
   "source": [
    "generate_json(mean_corners.tolist(), 'mean_corners.json')"
   ]
  }
 ],
 "metadata": {
  "kernelspec": {
   "display_name": "Python 3.8.12 ('sb_env')",
   "language": "python",
   "name": "python3"
  },
  "language_info": {
   "codemirror_mode": {
    "name": "ipython",
    "version": 3
   },
   "file_extension": ".py",
   "mimetype": "text/x-python",
   "name": "python",
   "nbconvert_exporter": "python",
   "pygments_lexer": "ipython3",
   "version": "3.8.12"
  },
  "orig_nbformat": 4,
  "vscode": {
   "interpreter": {
    "hash": "2bc99c5e2656e8ba4cad5e1858e81b3930e31fe5cf0aeaf14850db3b35b8d949"
   }
  }
 },
 "nbformat": 4,
 "nbformat_minor": 2
}
