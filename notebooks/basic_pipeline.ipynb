{
 "cells": [
  {
   "cell_type": "code",
   "execution_count": 1,
   "outputs": [],
   "source": [
    "import os\n",
    "os.chdir(os.getcwd()[:os.getcwd().rfind('\\\\')])"
   ],
   "metadata": {
    "collapsed": false,
    "pycharm": {
     "name": "#%%\n"
    }
   }
  },
  {
   "cell_type": "code",
   "execution_count": 2,
   "outputs": [],
   "source": [
    "from src.utils.preprocessing_utils import load_image, preprocess_image, get_bounding_boxes, get_corners, get_areas, filter_by_area\n",
    "from src.utils.frontend_utils import input_for_frontend\n",
    "from src.utils.data_utils import get_characters"
   ],
   "metadata": {
    "collapsed": false,
    "pycharm": {
     "name": "#%%\n"
    }
   }
  },
  {
   "cell_type": "code",
   "execution_count": 3,
   "metadata": {},
   "outputs": [],
   "source": [
    "image_file = 'data/raw/0002.jpg'\n",
    "\n",
    "img = load_image(image_file)\n",
    "bitwise_img = preprocess_image(img)\n",
    "bounding_boxes = get_bounding_boxes(bitwise_img)\n",
    "corners = get_corners(bounding_boxes)\n",
    "areas = get_areas(corners)\n",
    "mean_areas, mean_corners = filter_by_area(areas, corners)\n",
    "chars = get_characters(bitwise_img, mean_corners)"
   ]
  },
  {
   "cell_type": "code",
   "execution_count": 4,
   "outputs": [],
   "source": [
    "input_for_frontend(mean_corners, 'mean_corners.json')"
   ],
   "metadata": {
    "collapsed": false,
    "pycharm": {
     "name": "#%%\n"
    }
   }
  }
 ],
 "metadata": {
  "kernelspec": {
   "display_name": "Python 3.8.12 ('sb_env')",
   "language": "python",
   "name": "python3"
  },
  "language_info": {
   "codemirror_mode": {
    "name": "ipython",
    "version": 3
   },
   "file_extension": ".py",
   "mimetype": "text/x-python",
   "name": "python",
   "nbconvert_exporter": "python",
   "pygments_lexer": "ipython3",
   "version": "3.8.12"
  },
  "orig_nbformat": 4,
  "vscode": {
   "interpreter": {
    "hash": "2bc99c5e2656e8ba4cad5e1858e81b3930e31fe5cf0aeaf14850db3b35b8d949"
   }
  }
 },
 "nbformat": 4,
 "nbformat_minor": 2
}