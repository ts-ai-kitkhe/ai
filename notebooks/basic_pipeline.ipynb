{
 "cells": [
  {
   "cell_type": "code",
   "execution_count": 1,
   "metadata": {
    "pycharm": {
     "name": "#%%\n"
    }
   },
   "outputs": [],
   "source": [
    "import os\n",
    "os.chdir(os.getcwd()[:os.getcwd().rfind('\\\\')])"
   ]
  },
  {
   "cell_type": "code",
   "execution_count": 2,
   "metadata": {
    "pycharm": {
     "name": "#%%\n"
    }
   },
   "outputs": [],
   "source": [
    "import numpy as np\n",
    "from src.utils.preprocessing_utils import load_image, preprocess_image, get_bounding_boxes, get_corners, get_areas, filter_by_area, get_boxes_sides_length, filter_by_sides\n",
    "from src.utils.frontend_utils import input_for_frontend\n",
    "from src.utils.data_utils import get_characters"
   ]
  },
  {
   "cell_type": "code",
   "execution_count": 3,
   "metadata": {},
   "outputs": [],
   "source": [
    "# %%timeit\n",
    "image_file = 'data/raw/0002.jpg'\n",
    "\n",
    "img = load_image(image_file)\n",
    "binary_image = preprocess_image(img)\n",
    "# characteristics\n",
    "bounding_boxes = get_bounding_boxes(binary_image)\n",
    "corners = get_corners(bounding_boxes)\n",
    "areas = get_areas(corners)\n",
    "widths, heights = get_boxes_sides_length(corners)\n",
    "\n",
    "# filters\n",
    "filtered_areas, filtered_corners, area_mask = filter_by_area(areas, corners, filter_value = 0)\n",
    "filtered_widths, filtered_heights = np.array(widths)[np.array(area_mask)].tolist(), np.array(heights)[np.array(area_mask)].tolist()\n",
    "\n",
    "filtered_corners, side_mask = filter_by_sides(filtered_corners, filtered_widths, filtered_heights)\n",
    "filtered_widths, filtered_heights = np.array(filtered_widths)[np.array(side_mask)].tolist(), np.array(filtered_heights)[np.array(side_mask)].tolist()\n",
    "filtered_areas = np.array(filtered_areas)[np.array(side_mask)].tolist()\n",
    "\n",
    "filtered_areas, filtered_corners, area_mask = filter_by_area(filtered_areas, filtered_corners, filter_value = np.mean(filtered_areas)/2)\n",
    "filtered_widths, filtered_heights = np.array(widths)[np.array(area_mask)].tolist(), np.array(heights)[np.array(area_mask)].tolist()\n"
   ]
  },
  {
   "cell_type": "code",
   "execution_count": 4,
   "metadata": {},
   "outputs": [],
   "source": [
    "# %%timeit\n",
    "characters = get_characters(binary_image, filtered_corners)"
   ]
  },
  {
   "cell_type": "code",
   "execution_count": 5,
   "metadata": {},
   "outputs": [],
   "source": [
    "input_for_frontend(filtered_corners, 'filtered_corners.json')"
   ]
  }
 ],
 "metadata": {
  "kernelspec": {
   "display_name": "Python 3 (ipykernel)",
   "language": "python",
   "name": "python3"
  },
  "language_info": {
   "codemirror_mode": {
    "name": "ipython",
    "version": 3
   },
   "file_extension": ".py",
   "mimetype": "text/x-python",
   "name": "python",
   "nbconvert_exporter": "python",
   "pygments_lexer": "ipython3",
   "version": "3.8.12"
  },
  "toc": {
   "base_numbering": 1,
   "nav_menu": {},
   "number_sections": false,
   "sideBar": true,
   "skip_h1_title": false,
   "title_cell": "Table of Contents",
   "title_sidebar": "Contents",
   "toc_cell": false,
   "toc_position": {},
   "toc_section_display": true,
   "toc_window_display": false
  },
  "vscode": {
   "interpreter": {
    "hash": "2bc99c5e2656e8ba4cad5e1858e81b3930e31fe5cf0aeaf14850db3b35b8d949"
   }
  }
 },
 "nbformat": 4,
 "nbformat_minor": 2
}
